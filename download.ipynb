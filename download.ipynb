{
 "cells": [
  {
   "cell_type": "markdown",
   "id": "83ddc286",
   "metadata": {},
   "source": [
    "## Sử dụng thư viện twint để tìm kiếm"
   ]
  },
  {
   "cell_type": "code",
   "execution_count": 3,
   "id": "dd68f7c4",
   "metadata": {},
   "outputs": [
    {
     "name": "stdout",
     "output_type": "stream",
     "text": [
      "Nhập tên idol: han so hee\n",
      "Nhập limit theo thang 20: 5\n",
      "1542714117533798400 2022-07-01 10:38:02 +0700 <hansoheeglobal> Han Sohee (#HanSohee #한소희) for PENSHOPPE  https://t.co/g0v0OOzLQP\n",
      "1542714092590313472 2022-07-01 10:37:56 +0700 <hansoheeglobal> Han Sohee (#HanSohee #한소희) for PENSHOPPE  https://t.co/4BwBu95DQa\n",
      "1542704557276516352 2022-07-01 10:00:03 +0700 <hoursohee> #HanSoHee #한소희  https://t.co/JOky9flJJ7\n",
      "1542674446816780288 2022-07-01 08:00:24 +0700 <hoursohee> #HanSoHee #한소희  https://t.co/3DHQRfXp9L\n",
      "1542478224487317505 2022-06-30 19:00:41 +0700 <hoursohee> #HanSoHee #한소희  https://t.co/dQDRv3mUZL\n",
      "1542462020305334273 2022-06-30 17:56:17 +0700 <hansoheeglobal> According to a survey conducted by Eduwill, a comprehensive education company, Han Sohee were selected as the No. 1 \"men and women celebrities that make you want to go to school with\"  🔗  https://t.co/JxIC7uiOuH  #HanSohee #한소희  https://t.co/xXcRZj9OGj\n",
      "1542435378283823104 2022-06-30 16:10:25 +0700 <soheejpeg> #HANSOHEE #한소희: \"first ranked female celebrity that koreans wants to go to school with\"  https://t.co/saO8GMzHKA\n",
      "1542417799603273728 2022-06-30 15:00:34 +0700 <hoursohee> #HanSoHee #한소희  https://t.co/rCzqMH5EZb\n",
      "1542402679254704129 2022-06-30 14:00:29 +0700 <hoursohee> #HanSoHee #한소희  https://t.co/VxV7UtJaC0\n",
      "1542372373546008577 2022-06-30 12:00:04 +0700 <hoursohee> #HanSoHee #한소희  https://t.co/9nNZfO92oK\n",
      "1542357405278900225 2022-06-30 11:00:35 +0700 <hoursohee> #HanSoHee #한소희  https://t.co/os0DtlfGln\n",
      "1542342218215817219 2022-06-30 10:00:14 +0700 <hoursohee> #HanSoHee #한소희  https://t.co/y8zJE1WkQc\n",
      "1542312100193763330 2022-06-30 08:00:34 +0700 <hoursohee> #HanSoHee #한소희  https://t.co/xZdWj3zBs3\n",
      "1542146048738615297 2022-06-29 21:00:44 +0700 <hoursohee> #HanSoHee #한소희  https://t.co/UjhlCi6a70\n",
      "1542115855395442688 2022-06-29 19:00:45 +0700 <hoursohee> #HanSoHee #한소희  https://t.co/o5fAF5zcH9\n",
      "1542040305574240256 2022-06-29 14:00:33 +0700 <hoursohee> #HanSoHee #한소희  https://t.co/5LlIMzD9JX\n",
      "1542009989396578304 2022-06-29 12:00:05 +0700 <hoursohee> #HanSoHee #한소희  https://t.co/vCDDH41xkF\n",
      "1541783683614515204 2022-06-28 21:00:49 +0700 <hoursohee> #HanSoHee #한소희  https://t.co/Z9T5tfMM6S\n",
      "1541723368189296642 2022-06-28 17:01:09 +0700 <hoursohee> #HanSoHee #한소희  https://t.co/wlYi7zJ3L1\n",
      "1541708136100364290 2022-06-28 16:00:37 +0700 <hoursohee> #HanSoHee #한소희  https://t.co/m3VAqix1lU\n"
     ]
    }
   ],
   "source": [
    "import twint\n",
    "import nest_asyncio\n",
    "import random\n",
    "\n",
    "nest_asyncio.apply() # for the error: The event loop is already running\n",
    "\n",
    "config = twint.Config()\n",
    "\n",
    "idol = input (\"Nhập tên idol: \")\n",
    "\n",
    "config.Search= idol\n",
    "\n",
    "limit = int(input('Nhập limit theo thang 20: '))\n",
    "\n",
    "config.Limit = limit\n",
    "\n",
    "config.Min_likes = 100\n",
    "\n",
    "config.Images = True\n",
    "\n",
    "config.Store_csv = True\n",
    "\n",
    "config.Output = idol + \".csv\"\n",
    "\n",
    "twint.run.Search(config)"
   ]
  },
  {
   "cell_type": "code",
   "execution_count": 4,
   "id": "a4d07b09",
   "metadata": {},
   "outputs": [],
   "source": [
    "import pandas as pd\n",
    "import wget"
   ]
  },
  {
   "cell_type": "code",
   "execution_count": 5,
   "id": "88982737",
   "metadata": {},
   "outputs": [],
   "source": [
    "file = pd.read_csv(idol + \".csv\")"
   ]
  },
  {
   "cell_type": "code",
   "execution_count": 6,
   "id": "9f44fe33",
   "metadata": {
    "scrolled": true
   },
   "outputs": [
    {
     "name": "stdout",
     "output_type": "stream",
     "text": [
      "Link từng tweet lấy được: \n",
      "https://twitter.com/twitter/statuses/1542714117533798400\n",
      "https://twitter.com/twitter/statuses/1542714092590313472\n",
      "https://twitter.com/twitter/statuses/1542704557276516352\n",
      "https://twitter.com/twitter/statuses/1542674446816780288\n",
      "https://twitter.com/twitter/statuses/1542478224487317505\n",
      "https://twitter.com/twitter/statuses/1542462020305334273\n",
      "https://twitter.com/twitter/statuses/1542435378283823104\n",
      "https://twitter.com/twitter/statuses/1542417799603273728\n",
      "https://twitter.com/twitter/statuses/1542402679254704129\n",
      "https://twitter.com/twitter/statuses/1542372373546008577\n",
      "https://twitter.com/twitter/statuses/1542357405278900225\n",
      "https://twitter.com/twitter/statuses/1542342218215817219\n",
      "https://twitter.com/twitter/statuses/1542312100193763330\n",
      "https://twitter.com/twitter/statuses/1542146048738615297\n",
      "https://twitter.com/twitter/statuses/1542115855395442688\n",
      "https://twitter.com/twitter/statuses/1542040305574240256\n",
      "https://twitter.com/twitter/statuses/1542009989396578304\n",
      "https://twitter.com/twitter/statuses/1541783683614515204\n",
      "https://twitter.com/twitter/statuses/1541723368189296642\n",
      "https://twitter.com/twitter/statuses/1541708136100364290\n",
      "https://twitter.com/twitter/statuses/1542714117533798400\n",
      "https://twitter.com/twitter/statuses/1542714092590313472\n",
      "https://twitter.com/twitter/statuses/1542704557276516352\n",
      "https://twitter.com/twitter/statuses/1542674446816780288\n",
      "https://twitter.com/twitter/statuses/1542478224487317505\n",
      "https://twitter.com/twitter/statuses/1542462020305334273\n",
      "https://twitter.com/twitter/statuses/1542435378283823104\n",
      "https://twitter.com/twitter/statuses/1542417799603273728\n",
      "https://twitter.com/twitter/statuses/1542402679254704129\n",
      "https://twitter.com/twitter/statuses/1542372373546008577\n",
      "https://twitter.com/twitter/statuses/1542357405278900225\n",
      "https://twitter.com/twitter/statuses/1542342218215817219\n",
      "https://twitter.com/twitter/statuses/1542312100193763330\n",
      "https://twitter.com/twitter/statuses/1542146048738615297\n",
      "https://twitter.com/twitter/statuses/1542115855395442688\n",
      "https://twitter.com/twitter/statuses/1542040305574240256\n",
      "https://twitter.com/twitter/statuses/1542009989396578304\n",
      "https://twitter.com/twitter/statuses/1541783683614515204\n",
      "https://twitter.com/twitter/statuses/1541723368189296642\n",
      "https://twitter.com/twitter/statuses/1541708136100364290\n"
     ]
    }
   ],
   "source": [
    "print(\"Link từng tweet lấy được: \")\n",
    "for i in file['id']:\n",
    "    link  = 'https://twitter.com/twitter/statuses/' +str(i)\n",
    "    print(link)"
   ]
  },
  {
   "cell_type": "markdown",
   "id": "3e93ce4e",
   "metadata": {},
   "source": [
    "### Đường link từng hình dưới dạng string"
   ]
  },
  {
   "cell_type": "code",
   "execution_count": 7,
   "id": "9a61b12f",
   "metadata": {},
   "outputs": [
    {
     "name": "stdout",
     "output_type": "stream",
     "text": [
      "['https://pbs.twimg.com/media/FWjST7qUAAAMyGr.jpg', 'https://pbs.twimg.com/media/FWjST7sUEAA3dWQ.jpg']\n",
      "['https://pbs.twimg.com/media/FWjSSbqUAAYaB3x.jpg']\n",
      "['https://pbs.twimg.com/media/FWjJnmVWQAAQ5io.jpg']\n",
      "['https://pbs.twimg.com/media/FWiuO9DXkAMBwE4.jpg']\n",
      "['https://pbs.twimg.com/media/FWf7xTZXgAASNUr.jpg']\n",
      "['https://pbs.twimg.com/media/FWftB3JUUAAv40w.jpg', 'https://pbs.twimg.com/media/FWftB3IUUAAova7.jpg', 'https://pbs.twimg.com/media/FWftB3KUUAAVljP.jpg', 'https://pbs.twimg.com/media/FWftB3IVEAAyhes.jpg']\n",
      "['https://pbs.twimg.com/media/FWfUyaRagAAexDR.jpg', 'https://pbs.twimg.com/media/FWfUyaPaUAAMnH_.jpg', 'https://pbs.twimg.com/media/FWfUyaQaAAEAYIJ.jpg', 'https://pbs.twimg.com/media/FWfUyaRacAEFVVB.jpg']\n",
      "['https://pbs.twimg.com/media/FWfE0D-XEAEbjB9.jpg']\n",
      "['https://pbs.twimg.com/media/FWe3D9sX0AEu5wq.jpg']\n",
      "['https://pbs.twimg.com/media/FWebf-BXEAAf82A.jpg']\n",
      "['https://pbs.twimg.com/media/FWeN4uZWYAQMXI4.jpg']\n",
      "['https://pbs.twimg.com/media/FWeAErOXoAIE5BG.jpg']\n",
      "['https://pbs.twimg.com/media/FWdkrnPXoAApQ8S.jpg']\n",
      "['https://pbs.twimg.com/media/FWbNqHaXkAAxDXP.jpg']\n",
      "['https://pbs.twimg.com/media/FWayMqNWQAE0WQk.jpg']\n",
      "['https://pbs.twimg.com/media/FWZtfEOXkAAVqDD.jpg']\n",
      "['https://pbs.twimg.com/media/FWZR6aqX0AAzRQM.jpg']\n",
      "['https://pbs.twimg.com/media/FWWEFshXwAAFFxU.jpg']\n",
      "['https://pbs.twimg.com/media/FWVNO4hXgAAZ4dF.jpg']\n",
      "['https://pbs.twimg.com/media/FWU_YPYWAAAXek4.jpg']\n",
      "['https://pbs.twimg.com/media/FWjST7qUAAAMyGr.jpg', 'https://pbs.twimg.com/media/FWjST7sUEAA3dWQ.jpg']\n",
      "['https://pbs.twimg.com/media/FWjSSbqUAAYaB3x.jpg']\n",
      "['https://pbs.twimg.com/media/FWjJnmVWQAAQ5io.jpg']\n",
      "['https://pbs.twimg.com/media/FWiuO9DXkAMBwE4.jpg']\n",
      "['https://pbs.twimg.com/media/FWf7xTZXgAASNUr.jpg']\n",
      "['https://pbs.twimg.com/media/FWftB3JUUAAv40w.jpg', 'https://pbs.twimg.com/media/FWftB3IUUAAova7.jpg', 'https://pbs.twimg.com/media/FWftB3KUUAAVljP.jpg', 'https://pbs.twimg.com/media/FWftB3IVEAAyhes.jpg']\n",
      "['https://pbs.twimg.com/media/FWfUyaRagAAexDR.jpg', 'https://pbs.twimg.com/media/FWfUyaPaUAAMnH_.jpg', 'https://pbs.twimg.com/media/FWfUyaQaAAEAYIJ.jpg', 'https://pbs.twimg.com/media/FWfUyaRacAEFVVB.jpg']\n",
      "['https://pbs.twimg.com/media/FWfE0D-XEAEbjB9.jpg']\n",
      "['https://pbs.twimg.com/media/FWe3D9sX0AEu5wq.jpg']\n",
      "['https://pbs.twimg.com/media/FWebf-BXEAAf82A.jpg']\n",
      "['https://pbs.twimg.com/media/FWeN4uZWYAQMXI4.jpg']\n",
      "['https://pbs.twimg.com/media/FWeAErOXoAIE5BG.jpg']\n",
      "['https://pbs.twimg.com/media/FWdkrnPXoAApQ8S.jpg']\n",
      "['https://pbs.twimg.com/media/FWbNqHaXkAAxDXP.jpg']\n",
      "['https://pbs.twimg.com/media/FWayMqNWQAE0WQk.jpg']\n",
      "['https://pbs.twimg.com/media/FWZtfEOXkAAVqDD.jpg']\n",
      "['https://pbs.twimg.com/media/FWZR6aqX0AAzRQM.jpg']\n",
      "['https://pbs.twimg.com/media/FWWEFshXwAAFFxU.jpg']\n",
      "['https://pbs.twimg.com/media/FWVNO4hXgAAZ4dF.jpg']\n",
      "['https://pbs.twimg.com/media/FWU_YPYWAAAXek4.jpg']\n"
     ]
    }
   ],
   "source": [
    "for i in file['photos']:\n",
    "    print (i)"
   ]
  },
  {
   "cell_type": "markdown",
   "id": "32ca06f9",
   "metadata": {},
   "source": [
    "## Xử lý từng đường link"
   ]
  },
  {
   "cell_type": "code",
   "execution_count": 8,
   "id": "91708729",
   "metadata": {},
   "outputs": [
    {
     "name": "stdout",
     "output_type": "stream",
     "text": [
      "40\n",
      "\n",
      "Link từng hình:\n",
      "\n",
      "2\n",
      "https://pbs.twimg.com/media/FWjST7sUEAA3dWQ.jpg\n",
      "https://pbs.twimg.com/media/FWjST7qUAAAMyGr.jpg\n",
      "1\n",
      "https://pbs.twimg.com/media/FWjSSbqUAAYaB3x.jpg\n",
      "1\n",
      "https://pbs.twimg.com/media/FWjJnmVWQAAQ5io.jpg\n",
      "1\n",
      "https://pbs.twimg.com/media/FWiuO9DXkAMBwE4.jpg\n",
      "1\n",
      "https://pbs.twimg.com/media/FWf7xTZXgAASNUr.jpg\n",
      "4\n",
      "https://pbs.twimg.com/media/FWftB3IVEAAyhes.jpg\n",
      "https://pbs.twimg.com/media/FWftB3JUUAAv40w.jpg\n",
      "https://pbs.twimg.com/media/FWftB3IUUAAova7.jpg\n",
      "https://pbs.twimg.com/media/FWftB3KUUAAVljP.jpg\n",
      "4\n",
      "https://pbs.twimg.com/media/FWfUyaRacAEFVVB.jpg\n",
      "https://pbs.twimg.com/media/FWfUyaRagAAexDR.jpg\n",
      "https://pbs.twimg.com/media/FWfUyaPaUAAMnH_.jpg\n",
      "https://pbs.twimg.com/media/FWfUyaQaAAEAYIJ.jpg\n",
      "1\n",
      "https://pbs.twimg.com/media/FWfE0D-XEAEbjB9.jpg\n",
      "1\n",
      "https://pbs.twimg.com/media/FWe3D9sX0AEu5wq.jpg\n",
      "1\n",
      "https://pbs.twimg.com/media/FWebf-BXEAAf82A.jpg\n",
      "1\n",
      "https://pbs.twimg.com/media/FWeN4uZWYAQMXI4.jpg\n",
      "1\n",
      "https://pbs.twimg.com/media/FWeAErOXoAIE5BG.jpg\n",
      "1\n",
      "https://pbs.twimg.com/media/FWdkrnPXoAApQ8S.jpg\n",
      "1\n",
      "https://pbs.twimg.com/media/FWbNqHaXkAAxDXP.jpg\n",
      "1\n",
      "https://pbs.twimg.com/media/FWayMqNWQAE0WQk.jpg\n",
      "1\n",
      "https://pbs.twimg.com/media/FWZtfEOXkAAVqDD.jpg\n",
      "1\n",
      "https://pbs.twimg.com/media/FWZR6aqX0AAzRQM.jpg\n",
      "1\n",
      "https://pbs.twimg.com/media/FWWEFshXwAAFFxU.jpg\n",
      "1\n",
      "https://pbs.twimg.com/media/FWVNO4hXgAAZ4dF.jpg\n",
      "1\n",
      "https://pbs.twimg.com/media/FWU_YPYWAAAXek4.jpg\n",
      "2\n",
      "https://pbs.twimg.com/media/FWjST7sUEAA3dWQ.jpg\n",
      "https://pbs.twimg.com/media/FWjST7qUAAAMyGr.jpg\n",
      "1\n",
      "https://pbs.twimg.com/media/FWjSSbqUAAYaB3x.jpg\n",
      "1\n",
      "https://pbs.twimg.com/media/FWjJnmVWQAAQ5io.jpg\n",
      "1\n",
      "https://pbs.twimg.com/media/FWiuO9DXkAMBwE4.jpg\n",
      "1\n",
      "https://pbs.twimg.com/media/FWf7xTZXgAASNUr.jpg\n",
      "4\n",
      "https://pbs.twimg.com/media/FWftB3IVEAAyhes.jpg\n",
      "https://pbs.twimg.com/media/FWftB3JUUAAv40w.jpg\n",
      "https://pbs.twimg.com/media/FWftB3IUUAAova7.jpg\n",
      "https://pbs.twimg.com/media/FWftB3KUUAAVljP.jpg\n",
      "4\n",
      "https://pbs.twimg.com/media/FWfUyaRacAEFVVB.jpg\n",
      "https://pbs.twimg.com/media/FWfUyaRagAAexDR.jpg\n",
      "https://pbs.twimg.com/media/FWfUyaPaUAAMnH_.jpg\n",
      "https://pbs.twimg.com/media/FWfUyaQaAAEAYIJ.jpg\n",
      "1\n",
      "https://pbs.twimg.com/media/FWfE0D-XEAEbjB9.jpg\n",
      "1\n",
      "https://pbs.twimg.com/media/FWe3D9sX0AEu5wq.jpg\n",
      "1\n",
      "https://pbs.twimg.com/media/FWebf-BXEAAf82A.jpg\n",
      "1\n",
      "https://pbs.twimg.com/media/FWeN4uZWYAQMXI4.jpg\n",
      "1\n",
      "https://pbs.twimg.com/media/FWeAErOXoAIE5BG.jpg\n",
      "1\n",
      "https://pbs.twimg.com/media/FWdkrnPXoAApQ8S.jpg\n",
      "1\n",
      "https://pbs.twimg.com/media/FWbNqHaXkAAxDXP.jpg\n",
      "1\n",
      "https://pbs.twimg.com/media/FWayMqNWQAE0WQk.jpg\n",
      "1\n",
      "https://pbs.twimg.com/media/FWZtfEOXkAAVqDD.jpg\n",
      "1\n",
      "https://pbs.twimg.com/media/FWZR6aqX0AAzRQM.jpg\n",
      "1\n",
      "https://pbs.twimg.com/media/FWWEFshXwAAFFxU.jpg\n",
      "1\n",
      "https://pbs.twimg.com/media/FWVNO4hXgAAZ4dF.jpg\n",
      "1\n",
      "https://pbs.twimg.com/media/FWU_YPYWAAAXek4.jpg\n"
     ]
    }
   ],
   "source": [
    "cnt = 0\n",
    "image = list()\n",
    "print (len(file['photos']))\n",
    "print(\"\\nLink từng hình:\\n\")\n",
    "for i in file['photos']:\n",
    "    n = len(i)\n",
    "    t = int(n / 51)\n",
    "    print (t)\n",
    "    cnt  += t\n",
    "    for loop in range(t):\n",
    "        print ((i[ 2 + (51 * (loop - 1)) :49 + (51 * (loop - 1))]))\n",
    "        var = (i[ 2 + (51 * (loop - 1)) :49 + (51 * (loop - 1))])\n",
    "        image.append(var)"
   ]
  },
  {
   "cell_type": "code",
   "execution_count": 9,
   "id": "8c683d6d",
   "metadata": {
    "scrolled": true
   },
   "outputs": [
    {
     "name": "stdout",
     "output_type": "stream",
     "text": [
      "Tổng số hình ảnh:  54\n",
      "54\n"
     ]
    }
   ],
   "source": [
    "print (\"Tổng số hình ảnh: \", cnt)\n",
    "print (len(image))\n"
   ]
  },
  {
   "cell_type": "markdown",
   "id": "8d02b6c0",
   "metadata": {},
   "source": [
    "## Tạo file mới trong ổ D (nếu đã có thì không tạo nữa)"
   ]
  },
  {
   "cell_type": "code",
   "execution_count": 10,
   "id": "2228f274",
   "metadata": {},
   "outputs": [],
   "source": [
    "import pathlib\n",
    "#folder = \"C:/Users/ASUS/Desktop/tweepy/\" + idol\n",
    "folder = \"D:/\" + idol\n",
    "pathlib.Path(folder).mkdir(parents=True, exist_ok=True)"
   ]
  },
  {
   "cell_type": "markdown",
   "id": "a5f34107",
   "metadata": {},
   "source": [
    "## Bắt đầu tải"
   ]
  },
  {
   "cell_type": "code",
   "execution_count": 11,
   "id": "6764fb41",
   "metadata": {},
   "outputs": [
    {
     "name": "stdout",
     "output_type": "stream",
     "text": [
      "Bạn có muốn tải hết 54 hình này không?\n",
      "y/n: y\n",
      "100% [..............................................................................] 75713 / 75713"
     ]
    }
   ],
   "source": [
    "print (\"Bạn có muốn tải hết\", len(image), \"hình này không?\")\n",
    "i = input(\"y/n: \")\n",
    "if i == 'y':\n",
    "    for i in image:\n",
    "        wget.download(i, folder)"
   ]
  },
  {
   "cell_type": "code",
   "execution_count": null,
   "id": "519c738f",
   "metadata": {},
   "outputs": [],
   "source": []
  }
 ],
 "metadata": {
  "kernelspec": {
   "display_name": "Python 3 (ipykernel)",
   "language": "python",
   "name": "python3"
  },
  "language_info": {
   "codemirror_mode": {
    "name": "ipython",
    "version": 3
   },
   "file_extension": ".py",
   "mimetype": "text/x-python",
   "name": "python",
   "nbconvert_exporter": "python",
   "pygments_lexer": "ipython3",
   "version": "3.10.1"
  }
 },
 "nbformat": 4,
 "nbformat_minor": 5
}
